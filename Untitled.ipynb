{
 "cells": [
  {
   "cell_type": "code",
   "execution_count": 1,
   "id": "0dfe1931-2f55-49b4-a80f-0a4dfd9126e6",
   "metadata": {},
   "outputs": [
    {
     "data": {
      "text/plain": [
       "('2.3.3', '2.3.3', '0.14.5')"
      ]
     },
     "execution_count": 1,
     "metadata": {},
     "output_type": "execute_result"
    }
   ],
   "source": [
    "import numpy as np, pandas as pd, statsmodels.api as sm\n",
    "np.__version__, pd.__version__, sm.__version__"
   ]
  },
  {
   "cell_type": "code",
   "execution_count": null,
   "id": "3ad78116-4d12-417c-a724-e2665e30a252",
   "metadata": {},
   "outputs": [],
   "source": []
  }
 ],
 "metadata": {
  "kernelspec": {
   "display_name": "Python (pro-science)",
   "language": "python",
   "name": "pro-science"
  },
  "language_info": {
   "codemirror_mode": {
    "name": "ipython",
    "version": 3
   },
   "file_extension": ".py",
   "mimetype": "text/x-python",
   "name": "python",
   "nbconvert_exporter": "python",
   "pygments_lexer": "ipython3",
   "version": "3.11.14"
  }
 },
 "nbformat": 4,
 "nbformat_minor": 5
}
